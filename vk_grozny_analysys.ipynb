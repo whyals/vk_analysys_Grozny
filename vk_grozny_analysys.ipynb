{
 "cells": [
  {
   "cell_type": "code",
   "execution_count": 44,
   "outputs": [
    {
     "name": "stdout",
     "output_type": "stream",
     "text": [
      "Requirement already satisfied: vk_api in /Users/als/anaconda3/envs/corgi/lib/python3.7/site-packages (11.9.9)\r\n",
      "Requirement already satisfied: requests in /Users/als/anaconda3/envs/corgi/lib/python3.7/site-packages (from vk_api) (2.29.0)\r\n",
      "Requirement already satisfied: urllib3<1.27,>=1.21.1 in /Users/als/anaconda3/envs/corgi/lib/python3.7/site-packages (from requests->vk_api) (1.26.15)\r\n",
      "Requirement already satisfied: charset-normalizer<4,>=2 in /Users/als/anaconda3/envs/corgi/lib/python3.7/site-packages (from requests->vk_api) (3.1.0)\r\n",
      "Requirement already satisfied: idna<4,>=2.5 in /Users/als/anaconda3/envs/corgi/lib/python3.7/site-packages (from requests->vk_api) (3.4)\r\n",
      "Requirement already satisfied: certifi>=2017.4.17 in /Users/als/anaconda3/envs/corgi/lib/python3.7/site-packages (from requests->vk_api) (2022.12.7)\r\n",
      "Collecting pandas\r\n",
      "  Downloading pandas-1.3.5-cp37-cp37m-macosx_10_9_x86_64.whl (11.0 MB)\r\n",
      "\u001B[2K     \u001B[90m━━━━━━━━━━━━━━━━━━━━━━━━━━━━━━━━━━━━━━━━\u001B[0m \u001B[32m11.0/11.0 MB\u001B[0m \u001B[31m6.8 MB/s\u001B[0m eta \u001B[36m0:00:00\u001B[0m00:01\u001B[0m00:01\u001B[0m\r\n",
      "\u001B[?25hRequirement already satisfied: python-dateutil>=2.7.3 in /Users/als/.local/lib/python3.7/site-packages (from pandas) (2.8.2)\r\n",
      "Requirement already satisfied: pytz>=2017.3 in /Users/als/anaconda3/envs/corgi/lib/python3.7/site-packages (from pandas) (2023.3)\r\n",
      "Requirement already satisfied: numpy>=1.17.3 in /Users/als/anaconda3/envs/corgi/lib/python3.7/site-packages (from pandas) (1.21.5)\r\n",
      "Requirement already satisfied: six>=1.5 in /Users/als/anaconda3/envs/corgi/lib/python3.7/site-packages (from python-dateutil>=2.7.3->pandas) (1.16.0)\r\n",
      "Installing collected packages: pandas\r\n",
      "Successfully installed pandas-1.3.5\r\n"
     ]
    }
   ],
   "source": [
    "!pip install vk_api\n",
    "!pip install pandas"
   ],
   "metadata": {
    "collapsed": false,
    "ExecuteTime": {
     "start_time": "2024-05-04T22:05:57.034965Z",
     "end_time": "2024-05-04T22:06:03.960041Z"
    }
   }
  },
  {
   "cell_type": "code",
   "execution_count": 45,
   "outputs": [],
   "source": [
    "import vk_api\n",
    "import pandas as pd"
   ],
   "metadata": {
    "collapsed": false,
    "ExecuteTime": {
     "start_time": "2024-05-04T22:06:06.990439Z",
     "end_time": "2024-05-04T22:06:30.901695Z"
    }
   }
  },
  {
   "cell_type": "code",
   "execution_count": 50,
   "id": "cdd5bbf9",
   "metadata": {
    "id": "cdd5bbf9",
    "ExecuteTime": {
     "start_time": "2024-05-04T22:11:34.095389Z",
     "end_time": "2024-05-04T22:11:34.099920Z"
    }
   },
   "outputs": [],
   "source": [
    "access_token = 'vk1.a.H7SY8F4etlX17XXjBpvlu-pAeHku4lcbn_v62eaKUcZQt088gdYN9ta_Ep4bEMx3345ZjUECkZzp1CnkqqCV8-tBWWk24d-LhG_O11GdUHGGmzO3gSZUCsmqHZFm9Col68WapquD_NycR4cBTofLhFOYFzg9wVs1_KQuc0kTfr7O4xA-VJHEsVC_nGA5LsM_aJrwE2ccP3F_pFnqGvnOnw'"
   ]
  },
  {
   "cell_type": "code",
   "execution_count": 51,
   "id": "7ca970c7",
   "metadata": {
    "id": "7ca970c7",
    "ExecuteTime": {
     "start_time": "2024-05-04T22:11:35.842032Z",
     "end_time": "2024-05-04T22:11:35.848594Z"
    }
   },
   "outputs": [],
   "source": [
    "import vk_api\n",
    "vk_session = vk_api.VkApi(token = access_token)\n",
    "vk = vk_session.get_api()"
   ]
  },
  {
   "cell_type": "code",
   "execution_count": 64,
   "id": "1627d7d0",
   "metadata": {
    "id": "1627d7d0",
    "ExecuteTime": {
     "start_time": "2024-05-04T22:20:05.112886Z",
     "end_time": "2024-05-04T22:20:05.211843Z"
    }
   },
   "outputs": [
    {
     "data": {
      "text/plain": "[{'id': 298622905,\n  'has_photo': 1,\n  'has_mobile': 1,\n  'blacklisted_by_me': 0,\n  'verified': 0,\n  'first_name': 'Аркадий',\n  'last_name': 'Александров',\n  'can_access_closed': True,\n  'is_closed': True}]"
     },
     "execution_count": 64,
     "metadata": {},
     "output_type": "execute_result"
    }
   ],
   "source": [
    "vk.users.get(user_id=298622905, fields = 'blacklisted_by_me, has_mobile, verified, has_photo') # это не я"
   ]
  },
  {
   "cell_type": "code",
   "execution_count": 66,
   "id": "f860ede3",
   "metadata": {
    "id": "f860ede3",
    "ExecuteTime": {
     "start_time": "2024-05-04T22:20:35.899788Z",
     "end_time": "2024-05-04T22:20:36.073756Z"
    }
   },
   "outputs": [
    {
     "data": {
      "text/plain": "[{'id': 357080359,\n  'first_name': 'Дмитрий',\n  'last_name': 'Альбертович',\n  'can_access_closed': True,\n  'is_closed': False}]"
     },
     "execution_count": 66,
     "metadata": {},
     "output_type": "execute_result"
    }
   ],
   "source": [
    "vk.users.get(user_id=357080359, fields = 'city') # а это я, лень было искать город, вот так сделал"
   ]
  },
  {
   "cell_type": "code",
   "execution_count": 68,
   "id": "e37a0bc2",
   "metadata": {
    "id": "e37a0bc2",
    "ExecuteTime": {
     "start_time": "2024-05-04T22:22:22.407772Z",
     "end_time": "2024-05-04T22:22:22.513296Z"
    }
   },
   "outputs": [
    {
     "data": {
      "text/plain": "{'inner_type': 'wall_wallpost',\n 'can_delete': 1,\n 'can_pin': 1,\n 'comments': {'count': 2},\n 'marked_as_ads': 0,\n 'hash': 'rtm1xBCDdztup5FMslx532xeEiHg',\n 'type': 'post',\n 'attachments': [{'type': 'photo',\n   'photo': {'album_id': -6,\n    'date': 1665963848,\n    'id': 457285452,\n    'owner_id': 357080359,\n    'post_id': 505,\n    'sizes': [{'height': 75,\n      'type': 's',\n      'width': 56,\n      'url': 'https://sun1-92.userapi.com/impg/B86J9p9HmvdNP7JJ5P3iu0hvtQlmcs1HmNHqjQ/wFIprVE-Ves.jpg?size=56x75&quality=95&sign=61aadc43dee4147e2c3d472b9032b50d&c_uniq_tag=_tG2GzcrqYGsviEJ44hxAa--1mo5vyGnD46G6xscKXA&type=album'},\n     {'height': 130,\n      'type': 'm',\n      'width': 97,\n      'url': 'https://sun1-92.userapi.com/impg/B86J9p9HmvdNP7JJ5P3iu0hvtQlmcs1HmNHqjQ/wFIprVE-Ves.jpg?size=97x130&quality=95&sign=c4d7c7fbd3cc46935380d6aeca925060&c_uniq_tag=y4brZoZK87XAbkxHpj9EANyoJx8VPmf1KW4WH-XuDiY&type=album'},\n     {'height': 604,\n      'type': 'x',\n      'width': 452,\n      'url': 'https://sun1-92.userapi.com/impg/B86J9p9HmvdNP7JJ5P3iu0hvtQlmcs1HmNHqjQ/wFIprVE-Ves.jpg?size=452x604&quality=95&sign=deaa490fa3b3f319d4720ac496d6171c&c_uniq_tag=nSE3nepUJA6_qmSyot43y95i9WlCF_cvJFovI_V2Iyc&type=album'},\n     {'height': 807,\n      'type': 'y',\n      'width': 604,\n      'url': 'https://sun1-92.userapi.com/impg/B86J9p9HmvdNP7JJ5P3iu0hvtQlmcs1HmNHqjQ/wFIprVE-Ves.jpg?size=604x807&quality=95&sign=3671edd90c519fb8eb6c5b723c3f2a0d&c_uniq_tag=pN8gY6zv9Pvp9u920PtGURLKrX_4T0faaiPYRQC0mSQ&type=album'},\n     {'height': 1080,\n      'type': 'z',\n      'width': 809,\n      'url': 'https://sun1-92.userapi.com/impg/B86J9p9HmvdNP7JJ5P3iu0hvtQlmcs1HmNHqjQ/wFIprVE-Ves.jpg?size=809x1080&quality=95&sign=df66b4a12e3dbeeae5640f98ae8cb42b&c_uniq_tag=sOwHpFXkFqox9COLsbWqNtrIF_5yfw12es3q8mqrY-g&type=album'},\n     {'height': 1210,\n      'type': 'w',\n      'width': 906,\n      'url': 'https://sun1-92.userapi.com/impg/B86J9p9HmvdNP7JJ5P3iu0hvtQlmcs1HmNHqjQ/wFIprVE-Ves.jpg?size=906x1210&quality=95&sign=88256af5a5501411bb0f058bb78af162&c_uniq_tag=45L0si2Ipb5Qs-Hd_ZYYKc_q91ZoLIp_8wmNaCRAOkI&type=album'},\n     {'height': 174,\n      'type': 'o',\n      'width': 130,\n      'url': 'https://sun1-92.userapi.com/impg/B86J9p9HmvdNP7JJ5P3iu0hvtQlmcs1HmNHqjQ/wFIprVE-Ves.jpg?size=130x174&quality=95&sign=b7a29c25ab5ed3edd3abfcda566afee7&c_uniq_tag=SFWEnEaHjN4wOikfNB83Gp8hfT8b_EGsFf_2EKu2_Q0&type=album'},\n     {'height': 267,\n      'type': 'p',\n      'width': 200,\n      'url': 'https://sun1-92.userapi.com/impg/B86J9p9HmvdNP7JJ5P3iu0hvtQlmcs1HmNHqjQ/wFIprVE-Ves.jpg?size=200x267&quality=95&sign=efc18a30f2c37037fa3b4b945895de53&c_uniq_tag=43sYsCOHUM2hEwdAHGgBUDvgEM6WP3rW6NM-X1DOYpY&type=album'},\n     {'height': 427,\n      'type': 'q',\n      'width': 320,\n      'url': 'https://sun1-92.userapi.com/impg/B86J9p9HmvdNP7JJ5P3iu0hvtQlmcs1HmNHqjQ/wFIprVE-Ves.jpg?size=320x427&quality=95&sign=43b17d4057578d9ec63b3ed783334722&c_uniq_tag=DgwwnNuwmhLUDWnwHC5P3OuwZTcMDAITZ4e6vB-DgyI&type=album'},\n     {'height': 681,\n      'type': 'r',\n      'width': 510,\n      'url': 'https://sun1-92.userapi.com/impg/B86J9p9HmvdNP7JJ5P3iu0hvtQlmcs1HmNHqjQ/wFIprVE-Ves.jpg?size=510x681&quality=95&sign=da3d4ca33b660f20a7a5fae19c25940a&c_uniq_tag=7bimBQkzQ7_9TWXvL8-axi13xMmPu_IRAMHpPLivFZQ&type=album'}],\n    'square_crop': '126,292,711',\n    'text': '',\n    'web_view_token': '5d6a53d25156d2ffa2'}}],\n 'can_archive': True,\n 'date': 1665963848,\n 'from_id': 357080359,\n 'id': 505,\n 'is_archived': False,\n 'is_favorite': False,\n 'likes': {'can_like': 0, 'count': 19, 'user_likes': 0},\n 'owner_id': 357080359,\n 'post_type': 'post',\n 'reposts': {'count': 0, 'wall_count': 0, 'mail_count': 0},\n 'text': '',\n 'views': {'count': 528}}"
     },
     "execution_count": 68,
     "metadata": {},
     "output_type": "execute_result"
    }
   ],
   "source": [
    "vk.wall.get(count = 1)['items'][0] # у меня всего один пост с моей фоткой"
   ]
  },
  {
   "cell_type": "code",
   "execution_count": 88,
   "id": "769efcfe",
   "metadata": {
    "id": "769efcfe",
    "ExecuteTime": {
     "start_time": "2024-05-04T22:31:59.561777Z",
     "end_time": "2024-05-04T22:32:03.329725Z"
    }
   },
   "outputs": [
    {
     "name": "stdout",
     "output_type": "stream",
     "text": [
      "[]\n",
      "[{'id': 1, 'title': 'Москва'}]\n",
      "[{'id': 2, 'title': 'Санкт-Петербург'}]\n",
      "[{'id': 3, 'title': ''}]\n",
      "[{'id': 4, 'title': 'Herzliya'}]\n",
      "[{'id': 5, 'title': 'Отрадное'}]\n",
      "[{'id': 6, 'title': 'Чоп'}]\n",
      "[{'id': 7, 'title': ''}]\n",
      "[{'id': 8, 'title': 'Череповец'}]\n",
      "[{'id': 9, 'title': 'Buenos Aires'}]\n",
      "[{'id': 10, 'title': 'Волгоград'}]\n",
      "[{'id': 11, 'title': 'Северодвинск'}]\n",
      "[{'id': 12, 'title': 'Пушкин'}]\n",
      "[{'id': 13, 'title': 'Борок'}]\n",
      "[{'id': 14, 'title': 'Астана'}]\n",
      "[{'id': 15, 'title': ''}]\n",
      "[{'id': 16, 'title': 'Torino'}]\n",
      "[{'id': 17, 'title': 'Абакан'}]\n",
      "[{'id': 18, 'title': 'Альметьевск'}]\n",
      "[{'id': 19, 'title': 'Ангарск'}]\n",
      "[{'id': 20, 'title': 'Арзамас'}]\n",
      "[{'id': 21, 'title': 'Армавир'}]\n",
      "[{'id': 22, 'title': 'Архангельск'}]\n",
      "[{'id': 23, 'title': 'Астрахань'}]\n",
      "[{'id': 24, 'title': 'Балашиха'}]\n",
      "[{'id': 25, 'title': 'Барнаул'}]\n",
      "[{'id': 26, 'title': 'Белгород'}]\n",
      "[{'id': 27, 'title': 'Бийск'}]\n",
      "[{'id': 28, 'title': 'Биробиджан'}]\n",
      "[{'id': 29, 'title': 'Бирск'}]\n",
      "[{'id': 30, 'title': 'Благовещенск'}]\n",
      "[{'id': 31, 'title': 'Бор (поселок)'}]\n",
      "[{'id': 32, 'title': 'Братск'}]\n",
      "[{'id': 33, 'title': 'Брянск'}]\n",
      "[{'id': 34, 'title': 'Великие Луки'}]\n",
      "[{'id': 35, 'title': 'Великий Новгород'}]\n",
      "[{'id': 36, 'title': 'Видное'}]\n",
      "[{'id': 37, 'title': 'Владивосток'}]\n",
      "[{'id': 38, 'title': 'Владикавказ'}]\n",
      "[{'id': 39, 'title': 'Владимир'}]\n",
      "[{'id': 40, 'title': 'Волжский'}]\n",
      "[{'id': 41, 'title': 'Вологда'}]\n",
      "[{'id': 42, 'title': 'Воронеж'}]\n",
      "[{'id': 43, 'title': ''}]\n",
      "[{'id': 44, 'title': 'Геленджик'}]\n",
      "[{'id': 45, 'title': 'Глазов'}]\n",
      "[{'id': 46, 'title': 'Горно-Алтайск'}]\n",
      "[{'id': 47, 'title': ''}]\n",
      "[{'id': 48, 'title': 'Дубна (поселок)'}]\n",
      "[{'id': 49, 'title': 'Екатеринбург'}]\n",
      "[{'id': 50, 'title': 'Елабуга'}]\n",
      "[{'id': 51, 'title': 'Елец'}]\n",
      "[{'id': 52, 'title': 'Ессентуки'}]\n",
      "[{'id': 53, 'title': 'Жуковский'}]\n",
      "[{'id': 54, 'title': 'Зерноград'}]\n",
      "[{'id': 55, 'title': 'Иваново'}]\n",
      "[{'id': 56, 'title': 'Ижевск'}]\n",
      "[{'id': 57, 'title': 'Иркутск'}]\n",
      "[{'id': 58, 'title': 'Ишим'}]\n",
      "[{'id': 59, 'title': 'Йошкар-Ола'}]\n",
      "[{'id': 60, 'title': 'Казань'}]\n",
      "[{'id': 61, 'title': 'Калининград'}]\n",
      "[{'id': 62, 'title': 'Калуга'}]\n",
      "[{'id': 63, 'title': 'Карачаевск'}]\n",
      "[{'id': 64, 'title': 'Кемерово'}]\n",
      "[{'id': 65, 'title': 'Кинель'}]\n",
      "[{'id': 66, 'title': 'Киров'}]\n",
      "[{'id': 67, 'title': 'Кисловодск'}]\n",
      "[{'id': 68, 'title': 'Ковров'}]\n",
      "[{'id': 69, 'title': 'Коломна'}]\n",
      "[{'id': 70, 'title': 'Комсомольск-на-Амуре'}]\n",
      "[{'id': 71, 'title': 'Кострома'}]\n",
      "[{'id': 72, 'title': 'Краснодар'}]\n",
      "[{'id': 73, 'title': 'Красноярск'}]\n",
      "[{'id': 74, 'title': 'Курган'}]\n",
      "[{'id': 75, 'title': 'Курск'}]\n",
      "[{'id': 76, 'title': 'Кызыл'}]\n",
      "[{'id': 77, 'title': 'Лесниково'}]\n",
      "[{'id': 78, 'title': 'Липецк'}]\n",
      "[{'id': 79, 'title': 'Луга'}]\n",
      "[{'id': 80, 'title': 'Люберцы'}]\n",
      "[{'id': 81, 'title': 'Магадан'}]\n",
      "[{'id': 82, 'title': 'Магнитогорск'}]\n",
      "[{'id': 83, 'title': 'Майкоп'}]\n",
      "[{'id': 84, 'title': 'Малахово'}]\n",
      "[{'id': 85, 'title': 'Махачкала'}]\n",
      "[{'id': 86, 'title': 'Мичуринск (село)'}]\n",
      "[{'id': 87, 'title': 'Мурманск'}]\n",
      "[{'id': 88, 'title': 'Набережные Челны'}]\n",
      "[{'id': 89, 'title': 'Назрань'}]\n",
      "[{'id': 90, 'title': 'Нальчик'}]\n",
      "[{'id': 91, 'title': 'Находка'}]\n",
      "[{'id': 92, 'title': 'Невинномысск'}]\n",
      "[{'id': 93, 'title': 'Нижневартовск'}]\n",
      "[{'id': 94, 'title': 'Нижнекамск'}]\n",
      "[{'id': 95, 'title': 'Нижний Новгород'}]\n",
      "[{'id': 96, 'title': 'Нижний Тагил'}]\n",
      "[{'id': 97, 'title': 'Новокузнецк'}]\n",
      "[{'id': 98, 'title': 'Новороссийск'}]\n",
      "[{'id': 99, 'title': 'Новосибирск'}]\n",
      "[{'id': 100, 'title': 'Новоуральск'}]\n",
      "[{'id': 101, 'title': 'Новочеркасск'}]\n",
      "[{'id': 102, 'title': 'Норильск'}]\n",
      "[{'id': 103, 'title': 'Обнинск'}]\n",
      "[{'id': 104, 'title': 'Омск'}]\n",
      "[{'id': 105, 'title': 'Орёл'}]\n",
      "[{'id': 106, 'title': 'Оренбург'}]\n",
      "[{'id': 107, 'title': 'Орехово-Зуево'}]\n",
      "[{'id': 108, 'title': 'Орск'}]\n",
      "[{'id': 109, 'title': 'Пенза'}]\n",
      "[{'id': 110, 'title': 'Пермь'}]\n",
      "[{'id': 111, 'title': 'Персиановский'}]\n",
      "[{'id': 112, 'title': 'Петрозаводск'}]\n",
      "[{'id': 113, 'title': 'Петропавловск-Камчатский'}]\n",
      "[{'id': 114, 'title': 'Псков'}]\n",
      "[{'id': 115, 'title': 'Пущино'}]\n",
      "[{'id': 116, 'title': 'Пятигорск'}]\n",
      "[{'id': 117, 'title': 'Раменское'}]\n",
      "[{'id': 118, 'title': ''}]\n",
      "[{'id': 119, 'title': 'Ростов-на-Дону'}]\n",
      "[{'id': 120, 'title': 'Рузаевка'}]\n",
      "[{'id': 121, 'title': 'Рыбинск'}]\n",
      "[{'id': 122, 'title': 'Рязань'}]\n",
      "[{'id': 123, 'title': 'Самара'}]\n",
      "[{'id': 124, 'title': 'Саранск'}]\n",
      "[{'id': 125, 'title': 'Саратов'}]\n",
      "[{'id': 126, 'title': 'Северск'}]\n",
      "[{'id': 127, 'title': ''}]\n",
      "[{'id': 128, 'title': 'Сиверский'}]\n",
      "[{'id': 129, 'title': 'Славянск-на-Кубани'}]\n",
      "[{'id': 130, 'title': 'Смоленск'}]\n",
      "[{'id': 131, 'title': 'Снежинск'}]\n",
      "[{'id': 132, 'title': 'Соликамск'}]\n",
      "[{'id': 133, 'title': 'Сочи'}]\n",
      "[{'id': 134, 'title': 'Ставрополь'}]\n",
      "[{'id': 135, 'title': 'Стерлитамак'}]\n",
      "[{'id': 136, 'title': 'Сургут'}]\n",
      "[{'id': 137, 'title': ''}]\n",
      "[{'id': 138, 'title': 'Сыктывкар'}]\n",
      "[{'id': 139, 'title': 'Таганрог'}]\n",
      "[{'id': 140, 'title': 'Тамбов'}]\n",
      "[{'id': 141, 'title': 'Тверь'}]\n",
      "[{'id': 142, 'title': ''}]\n",
      "[{'id': 143, 'title': 'Тольятти'}]\n",
      "[{'id': 144, 'title': 'Томск'}]\n",
      "[{'id': 145, 'title': 'Троицк'}]\n",
      "[{'id': 146, 'title': 'Тула'}]\n",
      "[{'id': 147, 'title': 'Тюмень'}]\n",
      "[{'id': 148, 'title': 'Улан-Удэ'}]\n",
      "[{'id': 149, 'title': 'Ульяновск'}]\n",
      "[{'id': 150, 'title': 'Уссурийск'}]\n",
      "[{'id': 151, 'title': 'Уфа'}]\n",
      "[{'id': 152, 'title': 'Ухта'}]\n",
      "[{'id': 153, 'title': 'Хабаровск'}]\n",
      "[{'id': 154, 'title': 'Ханты-Мансийск'}]\n",
      "[{'id': 155, 'title': 'Химки'}]\n",
      "[{'id': 156, 'title': 'Чайковский'}]\n",
      "[{'id': 157, 'title': 'Чебоксары'}]\n",
      "[{'id': 158, 'title': 'Челябинск'}]\n",
      "[{'id': 159, 'title': 'Черкесск'}]\n",
      "[{'id': 160, 'title': 'Грозный'}]\n",
      "[{'id': 161, 'title': 'Чита'}]\n",
      "[{'id': 162, 'title': 'Чурапча'}]\n",
      "[{'id': 163, 'title': 'Шадринск'}]\n",
      "[{'id': 164, 'title': 'Шахты'}]\n",
      "[{'id': 165, 'title': 'Шуя'}]\n",
      "[{'id': 166, 'title': 'Элиста'}]\n",
      "[{'id': 167, 'title': 'Южно-Сахалинск'}]\n",
      "[{'id': 168, 'title': 'Якутск'}]\n",
      "[{'id': 169, 'title': 'Ярославль'}]\n",
      "[{'id': 170, 'title': ''}]\n",
      "[{'id': 171, 'title': 'Дербент'}]\n",
      "[{'id': 172, 'title': 'Североморск'}]\n",
      "[{'id': 173, 'title': 'Байконур'}]\n",
      "[{'id': 174, 'title': 'Bayreuth'}]\n",
      "[{'id': 175, 'title': 'Апатиты'}]\n",
      "[{'id': 176, 'title': 'Светлогорск'}]\n",
      "[{'id': 177, 'title': 'Выборг'}]\n",
      "[{'id': 178, 'title': 'Сертолово'}]\n",
      "[{'id': 179, 'title': ''}]\n",
      "[{'id': 180, 'title': ''}]\n",
      "[{'id': 181, 'title': 'Плюсса'}]\n",
      "[{'id': 182, 'title': 'Тобольск'}]\n",
      "[{'id': 183, 'title': 'Алматы'}]\n"
     ]
    },
    {
     "ename": "KeyboardInterrupt",
     "evalue": "",
     "output_type": "error",
     "traceback": [
      "\u001B[0;31m---------------------------------------------------------------------------\u001B[0m",
      "\u001B[0;31mKeyboardInterrupt\u001B[0m                         Traceback (most recent call last)",
      "\u001B[0;32m/var/folders/97/thqfbqnj1bdfq1kp21nlg0700000gn/T/ipykernel_31721/132696599.py\u001B[0m in \u001B[0;36m<module>\u001B[0;34m\u001B[0m\n\u001B[1;32m      1\u001B[0m \u001B[0;32mfor\u001B[0m \u001B[0mi\u001B[0m \u001B[0;32min\u001B[0m \u001B[0mrange\u001B[0m\u001B[0;34m(\u001B[0m\u001B[0;36m1000\u001B[0m\u001B[0;34m)\u001B[0m\u001B[0;34m:\u001B[0m\u001B[0;34m\u001B[0m\u001B[0;34m\u001B[0m\u001B[0m\n\u001B[0;32m----> 2\u001B[0;31m     \u001B[0mprint\u001B[0m\u001B[0;34m(\u001B[0m\u001B[0mvk\u001B[0m\u001B[0;34m.\u001B[0m\u001B[0mdatabase\u001B[0m\u001B[0;34m.\u001B[0m\u001B[0mgetCitiesById\u001B[0m\u001B[0;34m(\u001B[0m\u001B[0mcity_ids\u001B[0m \u001B[0;34m=\u001B[0m \u001B[0mi\u001B[0m\u001B[0;34m)\u001B[0m\u001B[0;34m)\u001B[0m\u001B[0;34m\u001B[0m\u001B[0;34m\u001B[0m\u001B[0m\n\u001B[0m",
      "\u001B[0;32m~/anaconda3/envs/corgi/lib/python3.7/site-packages/vk_api/vk_api.py\u001B[0m in \u001B[0;36m__call__\u001B[0;34m(self, **kwargs)\u001B[0m\n\u001B[1;32m    735\u001B[0m                 \u001B[0mkwargs\u001B[0m\u001B[0;34m[\u001B[0m\u001B[0mk\u001B[0m\u001B[0;34m]\u001B[0m \u001B[0;34m=\u001B[0m \u001B[0;34m','\u001B[0m\u001B[0;34m.\u001B[0m\u001B[0mjoin\u001B[0m\u001B[0;34m(\u001B[0m\u001B[0mstr\u001B[0m\u001B[0;34m(\u001B[0m\u001B[0mx\u001B[0m\u001B[0;34m)\u001B[0m \u001B[0;32mfor\u001B[0m \u001B[0mx\u001B[0m \u001B[0;32min\u001B[0m \u001B[0mv\u001B[0m\u001B[0;34m)\u001B[0m\u001B[0;34m\u001B[0m\u001B[0;34m\u001B[0m\u001B[0m\n\u001B[1;32m    736\u001B[0m \u001B[0;34m\u001B[0m\u001B[0m\n\u001B[0;32m--> 737\u001B[0;31m         \u001B[0;32mreturn\u001B[0m \u001B[0mself\u001B[0m\u001B[0;34m.\u001B[0m\u001B[0m_vk\u001B[0m\u001B[0;34m.\u001B[0m\u001B[0mmethod\u001B[0m\u001B[0;34m(\u001B[0m\u001B[0mself\u001B[0m\u001B[0;34m.\u001B[0m\u001B[0m_method\u001B[0m\u001B[0;34m,\u001B[0m \u001B[0mkwargs\u001B[0m\u001B[0;34m)\u001B[0m\u001B[0;34m\u001B[0m\u001B[0;34m\u001B[0m\u001B[0m\n\u001B[0m",
      "\u001B[0;32m~/anaconda3/envs/corgi/lib/python3.7/site-packages/vk_api/vk_api.py\u001B[0m in \u001B[0;36mmethod\u001B[0;34m(self, method, values, captcha_sid, captcha_key, raw)\u001B[0m\n\u001B[1;32m    661\u001B[0m                 \u001B[0;34m'https://api.vk.com/method/'\u001B[0m \u001B[0;34m+\u001B[0m \u001B[0mmethod\u001B[0m\u001B[0;34m,\u001B[0m\u001B[0;34m\u001B[0m\u001B[0;34m\u001B[0m\u001B[0m\n\u001B[1;32m    662\u001B[0m                 \u001B[0mvalues\u001B[0m\u001B[0;34m,\u001B[0m\u001B[0;34m\u001B[0m\u001B[0;34m\u001B[0m\u001B[0m\n\u001B[0;32m--> 663\u001B[0;31m                 \u001B[0mheaders\u001B[0m\u001B[0;34m=\u001B[0m\u001B[0;34m{\u001B[0m\u001B[0;34m'Cookie'\u001B[0m\u001B[0;34m:\u001B[0m \u001B[0;34m''\u001B[0m\u001B[0;34m}\u001B[0m\u001B[0;34m\u001B[0m\u001B[0;34m\u001B[0m\u001B[0m\n\u001B[0m\u001B[1;32m    664\u001B[0m             )\n\u001B[1;32m    665\u001B[0m             \u001B[0mself\u001B[0m\u001B[0;34m.\u001B[0m\u001B[0mlast_request\u001B[0m \u001B[0;34m=\u001B[0m \u001B[0mtime\u001B[0m\u001B[0;34m.\u001B[0m\u001B[0mtime\u001B[0m\u001B[0;34m(\u001B[0m\u001B[0;34m)\u001B[0m\u001B[0;34m\u001B[0m\u001B[0;34m\u001B[0m\u001B[0m\n",
      "\u001B[0;32m~/anaconda3/envs/corgi/lib/python3.7/site-packages/requests/sessions.py\u001B[0m in \u001B[0;36mpost\u001B[0;34m(self, url, data, json, **kwargs)\u001B[0m\n\u001B[1;32m    633\u001B[0m         \"\"\"\n\u001B[1;32m    634\u001B[0m \u001B[0;34m\u001B[0m\u001B[0m\n\u001B[0;32m--> 635\u001B[0;31m         \u001B[0;32mreturn\u001B[0m \u001B[0mself\u001B[0m\u001B[0;34m.\u001B[0m\u001B[0mrequest\u001B[0m\u001B[0;34m(\u001B[0m\u001B[0;34m\"POST\"\u001B[0m\u001B[0;34m,\u001B[0m \u001B[0murl\u001B[0m\u001B[0;34m,\u001B[0m \u001B[0mdata\u001B[0m\u001B[0;34m=\u001B[0m\u001B[0mdata\u001B[0m\u001B[0;34m,\u001B[0m \u001B[0mjson\u001B[0m\u001B[0;34m=\u001B[0m\u001B[0mjson\u001B[0m\u001B[0;34m,\u001B[0m \u001B[0;34m**\u001B[0m\u001B[0mkwargs\u001B[0m\u001B[0;34m)\u001B[0m\u001B[0;34m\u001B[0m\u001B[0;34m\u001B[0m\u001B[0m\n\u001B[0m\u001B[1;32m    636\u001B[0m \u001B[0;34m\u001B[0m\u001B[0m\n\u001B[1;32m    637\u001B[0m     \u001B[0;32mdef\u001B[0m \u001B[0mput\u001B[0m\u001B[0;34m(\u001B[0m\u001B[0mself\u001B[0m\u001B[0;34m,\u001B[0m \u001B[0murl\u001B[0m\u001B[0;34m,\u001B[0m \u001B[0mdata\u001B[0m\u001B[0;34m=\u001B[0m\u001B[0;32mNone\u001B[0m\u001B[0;34m,\u001B[0m \u001B[0;34m**\u001B[0m\u001B[0mkwargs\u001B[0m\u001B[0;34m)\u001B[0m\u001B[0;34m:\u001B[0m\u001B[0;34m\u001B[0m\u001B[0;34m\u001B[0m\u001B[0m\n",
      "\u001B[0;32m~/anaconda3/envs/corgi/lib/python3.7/site-packages/requests/sessions.py\u001B[0m in \u001B[0;36mrequest\u001B[0;34m(self, method, url, params, data, headers, cookies, files, auth, timeout, allow_redirects, proxies, hooks, stream, verify, cert, json)\u001B[0m\n\u001B[1;32m    576\u001B[0m \u001B[0;34m\u001B[0m\u001B[0m\n\u001B[1;32m    577\u001B[0m         settings = self.merge_environment_settings(\n\u001B[0;32m--> 578\u001B[0;31m             \u001B[0mprep\u001B[0m\u001B[0;34m.\u001B[0m\u001B[0murl\u001B[0m\u001B[0;34m,\u001B[0m \u001B[0mproxies\u001B[0m\u001B[0;34m,\u001B[0m \u001B[0mstream\u001B[0m\u001B[0;34m,\u001B[0m \u001B[0mverify\u001B[0m\u001B[0;34m,\u001B[0m \u001B[0mcert\u001B[0m\u001B[0;34m\u001B[0m\u001B[0;34m\u001B[0m\u001B[0m\n\u001B[0m\u001B[1;32m    579\u001B[0m         )\n\u001B[1;32m    580\u001B[0m \u001B[0;34m\u001B[0m\u001B[0m\n",
      "\u001B[0;32m~/anaconda3/envs/corgi/lib/python3.7/site-packages/requests/sessions.py\u001B[0m in \u001B[0;36mmerge_environment_settings\u001B[0;34m(self, url, proxies, stream, verify, cert)\u001B[0m\n\u001B[1;32m    757\u001B[0m             \u001B[0;31m# Set environment's proxies.\u001B[0m\u001B[0;34m\u001B[0m\u001B[0;34m\u001B[0m\u001B[0;34m\u001B[0m\u001B[0m\n\u001B[1;32m    758\u001B[0m             \u001B[0mno_proxy\u001B[0m \u001B[0;34m=\u001B[0m \u001B[0mproxies\u001B[0m\u001B[0;34m.\u001B[0m\u001B[0mget\u001B[0m\u001B[0;34m(\u001B[0m\u001B[0;34m\"no_proxy\"\u001B[0m\u001B[0;34m)\u001B[0m \u001B[0;32mif\u001B[0m \u001B[0mproxies\u001B[0m \u001B[0;32mis\u001B[0m \u001B[0;32mnot\u001B[0m \u001B[0;32mNone\u001B[0m \u001B[0;32melse\u001B[0m \u001B[0;32mNone\u001B[0m\u001B[0;34m\u001B[0m\u001B[0;34m\u001B[0m\u001B[0m\n\u001B[0;32m--> 759\u001B[0;31m             \u001B[0menv_proxies\u001B[0m \u001B[0;34m=\u001B[0m \u001B[0mget_environ_proxies\u001B[0m\u001B[0;34m(\u001B[0m\u001B[0murl\u001B[0m\u001B[0;34m,\u001B[0m \u001B[0mno_proxy\u001B[0m\u001B[0;34m=\u001B[0m\u001B[0mno_proxy\u001B[0m\u001B[0;34m)\u001B[0m\u001B[0;34m\u001B[0m\u001B[0;34m\u001B[0m\u001B[0m\n\u001B[0m\u001B[1;32m    760\u001B[0m             \u001B[0;32mfor\u001B[0m \u001B[0;34m(\u001B[0m\u001B[0mk\u001B[0m\u001B[0;34m,\u001B[0m \u001B[0mv\u001B[0m\u001B[0;34m)\u001B[0m \u001B[0;32min\u001B[0m \u001B[0menv_proxies\u001B[0m\u001B[0;34m.\u001B[0m\u001B[0mitems\u001B[0m\u001B[0;34m(\u001B[0m\u001B[0;34m)\u001B[0m\u001B[0;34m:\u001B[0m\u001B[0;34m\u001B[0m\u001B[0;34m\u001B[0m\u001B[0m\n\u001B[1;32m    761\u001B[0m                 \u001B[0mproxies\u001B[0m\u001B[0;34m.\u001B[0m\u001B[0msetdefault\u001B[0m\u001B[0;34m(\u001B[0m\u001B[0mk\u001B[0m\u001B[0;34m,\u001B[0m \u001B[0mv\u001B[0m\u001B[0;34m)\u001B[0m\u001B[0;34m\u001B[0m\u001B[0;34m\u001B[0m\u001B[0m\n",
      "\u001B[0;32m~/anaconda3/envs/corgi/lib/python3.7/site-packages/requests/utils.py\u001B[0m in \u001B[0;36mget_environ_proxies\u001B[0;34m(url, no_proxy)\u001B[0m\n\u001B[1;32m    831\u001B[0m         \u001B[0;32mreturn\u001B[0m \u001B[0;34m{\u001B[0m\u001B[0;34m}\u001B[0m\u001B[0;34m\u001B[0m\u001B[0;34m\u001B[0m\u001B[0m\n\u001B[1;32m    832\u001B[0m     \u001B[0;32melse\u001B[0m\u001B[0;34m:\u001B[0m\u001B[0;34m\u001B[0m\u001B[0;34m\u001B[0m\u001B[0m\n\u001B[0;32m--> 833\u001B[0;31m         \u001B[0;32mreturn\u001B[0m \u001B[0mgetproxies\u001B[0m\u001B[0;34m(\u001B[0m\u001B[0;34m)\u001B[0m\u001B[0;34m\u001B[0m\u001B[0;34m\u001B[0m\u001B[0m\n\u001B[0m\u001B[1;32m    834\u001B[0m \u001B[0;34m\u001B[0m\u001B[0m\n\u001B[1;32m    835\u001B[0m \u001B[0;34m\u001B[0m\u001B[0m\n",
      "\u001B[0;32m~/anaconda3/envs/corgi/lib/python3.7/urllib/request.py\u001B[0m in \u001B[0;36mgetproxies\u001B[0;34m()\u001B[0m\n\u001B[1;32m   2646\u001B[0m \u001B[0;34m\u001B[0m\u001B[0m\n\u001B[1;32m   2647\u001B[0m     \u001B[0;32mdef\u001B[0m \u001B[0mgetproxies\u001B[0m\u001B[0;34m(\u001B[0m\u001B[0;34m)\u001B[0m\u001B[0;34m:\u001B[0m\u001B[0;34m\u001B[0m\u001B[0;34m\u001B[0m\u001B[0m\n\u001B[0;32m-> 2648\u001B[0;31m         \u001B[0;32mreturn\u001B[0m \u001B[0mgetproxies_environment\u001B[0m\u001B[0;34m(\u001B[0m\u001B[0;34m)\u001B[0m \u001B[0;32mor\u001B[0m \u001B[0mgetproxies_macosx_sysconf\u001B[0m\u001B[0;34m(\u001B[0m\u001B[0;34m)\u001B[0m\u001B[0;34m\u001B[0m\u001B[0;34m\u001B[0m\u001B[0m\n\u001B[0m\u001B[1;32m   2649\u001B[0m \u001B[0;34m\u001B[0m\u001B[0m\n\u001B[1;32m   2650\u001B[0m \u001B[0;34m\u001B[0m\u001B[0m\n",
      "\u001B[0;32m~/anaconda3/envs/corgi/lib/python3.7/urllib/request.py\u001B[0m in \u001B[0;36mgetproxies_macosx_sysconf\u001B[0;34m()\u001B[0m\n\u001B[1;32m   2628\u001B[0m         \u001B[0mto\u001B[0m \u001B[0mfetch\u001B[0m \u001B[0mthe\u001B[0m \u001B[0mproxy\u001B[0m \u001B[0minformation\u001B[0m\u001B[0;34m.\u001B[0m\u001B[0;34m\u001B[0m\u001B[0;34m\u001B[0m\u001B[0m\n\u001B[1;32m   2629\u001B[0m         \"\"\"\n\u001B[0;32m-> 2630\u001B[0;31m         \u001B[0;32mreturn\u001B[0m \u001B[0m_get_proxies\u001B[0m\u001B[0;34m(\u001B[0m\u001B[0;34m)\u001B[0m\u001B[0;34m\u001B[0m\u001B[0;34m\u001B[0m\u001B[0m\n\u001B[0m\u001B[1;32m   2631\u001B[0m \u001B[0;34m\u001B[0m\u001B[0m\n\u001B[1;32m   2632\u001B[0m \u001B[0;34m\u001B[0m\u001B[0m\n",
      "\u001B[0;31mKeyboardInterrupt\u001B[0m: "
     ]
    }
   ],
   "source": [
    "for i in range(1000):\n",
    "    print(vk.database.getCitiesById(city_ids = i)) # так я искал грозный))))"
   ]
  },
  {
   "cell_type": "code",
   "execution_count": 117,
   "outputs": [],
   "source": [
    "answer = []"
   ],
   "metadata": {
    "collapsed": false,
    "ExecuteTime": {
     "start_time": "2024-05-04T23:58:22.708352Z",
     "end_time": "2024-05-04T23:58:22.709599Z"
    }
   }
  },
  {
   "cell_type": "code",
   "execution_count": 118,
   "id": "dc74b81a",
   "metadata": {
    "id": "dc74b81a",
    "ExecuteTime": {
     "start_time": "2024-05-04T23:58:24.672282Z",
     "end_time": "2024-05-04T23:58:26.811304Z"
    }
   },
   "outputs": [
    {
     "name": "stdout",
     "output_type": "stream",
     "text": [
      "Прекрасных мужчин найдено 459 шт\n"
     ]
    }
   ],
   "source": [
    "male = vk.users.search(city=160, fields=['first_name', 'last_name', 'sex', 'bdate'], sex = '2', count = 1000)['items']\n",
    "finded_man = [user for user in male if 'bdate' in user and user['bdate'].count('.') == 2]\n",
    "for user in finded_man:\n",
    "    answer.append(user)\n",
    "print('Прекрасных мужчин найдено', len(finded_man), 'шт')"
   ]
  },
  {
   "cell_type": "code",
   "execution_count": 119,
   "id": "99cef8c8",
   "metadata": {
    "id": "99cef8c8",
    "ExecuteTime": {
     "start_time": "2024-05-04T23:58:26.814715Z",
     "end_time": "2024-05-04T23:58:29.490756Z"
    }
   },
   "outputs": [
    {
     "name": "stdout",
     "output_type": "stream",
     "text": [
      "Не менее прекрасных девушек найдено 443 шт\n"
     ]
    }
   ],
   "source": [
    "female = vk.users.search(city=160, fields=['first_name', 'last_name', 'sex', 'bdate'], sex = '1', count = 1000)['items']\n",
    "finded_wonam = [user for user in female if 'bdate' in user and user['bdate'].count('.') == 2]\n",
    "for user in finded_wonam:\n",
    "    answer.append(user)\n",
    "print('Не менее прекрасных девушек найдено', len(finded_wonam), 'шт')"
   ]
  },
  {
   "cell_type": "code",
   "execution_count": 120,
   "outputs": [
    {
     "name": "stdout",
     "output_type": "stream",
     "text": [
      "902\n"
     ]
    }
   ],
   "source": [
    "print(len(answer)) # как 1000, но на 98 меньше"
   ],
   "metadata": {
    "collapsed": false,
    "ExecuteTime": {
     "start_time": "2024-05-04T23:58:32.591377Z",
     "end_time": "2024-05-04T23:58:32.598234Z"
    }
   }
  },
  {
   "cell_type": "code",
   "execution_count": 121,
   "outputs": [],
   "source": [
    "df = pd.DataFrame(answer)\n",
    "df.to_csv('users.csv', index = False, encoding='utf-8')"
   ],
   "metadata": {
    "collapsed": false,
    "ExecuteTime": {
     "start_time": "2024-05-04T23:58:35.508753Z",
     "end_time": "2024-05-04T23:58:35.518205Z"
    }
   }
  }
 ],
 "metadata": {
  "colab": {
   "provenance": []
  },
  "kernelspec": {
   "display_name": "Python 3 (ipykernel)",
   "language": "python",
   "name": "python3"
  },
  "language_info": {
   "codemirror_mode": {
    "name": "ipython",
    "version": 3
   },
   "file_extension": ".py",
   "mimetype": "text/x-python",
   "name": "python",
   "nbconvert_exporter": "python",
   "pygments_lexer": "ipython3",
   "version": "3.9.12"
  }
 },
 "nbformat": 4,
 "nbformat_minor": 5
}
